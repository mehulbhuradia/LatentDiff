{
 "cells": [
  {
   "cell_type": "code",
   "execution_count": 1,
   "id": "36cb43a8",
   "metadata": {},
   "outputs": [],
   "source": [
    "import numpy as np\n",
    "import os\n",
    "import sys\n",
    "sys.path.append(\"../protein_autoencoder/\")\n",
    "import torch\n",
    "from torch_geometric.utils import from_networkx\n",
    "from torch_geometric.nn import radius_graph\n",
    "from torch_geometric.data import Batch\n",
    "from torch_geometric.loader import DataLoader\n",
    "from model import ProAuto\n",
    "import matplotlib.pyplot as plt\n",
    "import networkx as nx\n",
    "from tqdm import tqdm\n",
    "from torch_geometric.data import Data\n",
    "%matplotlib inline"
   ]
  },
  {
   "cell_type": "code",
   "execution_count": 15,
   "id": "1e290d1e",
   "metadata": {},
   "outputs": [],
   "source": [
    "device = torch.device('cuda:0')"
   ]
  },
  {
   "cell_type": "code",
   "execution_count": 16,
   "id": "ac9c0308",
   "metadata": {},
   "outputs": [],
   "source": [
    "train_set = torch.load(os.path.join('./', 'AFPDB_data_128_Train_complete.pt'))\n",
    "valid_set = torch.load(os.path.join('./', 'PDB_data_128_Val_complete.pt'))\n",
    "test_set = torch.load(os.path.join('./', 'PDB_data_128_Test_complete.pt'))"
   ]
  },
  {
   "cell_type": "code",
   "execution_count": 17,
   "id": "2267494f",
   "metadata": {},
   "outputs": [],
   "source": [
    "train_loader = DataLoader(train_set, batch_size=16, shuffle=False, num_workers=0)\n",
    "valid_loader = DataLoader(valid_set, batch_size=16, shuffle=False, num_workers=0)\n",
    "test_loader = DataLoader(test_set, batch_size=16, shuffle=False, num_workers=0)"
   ]
  },
  {
   "cell_type": "code",
   "execution_count": 18,
   "id": "028ab082",
   "metadata": {},
   "outputs": [],
   "source": [
    "params = {\n",
    "    \"mp_steps\": 4,\n",
    "    \"layers\": 2,\n",
    "    \"num_types\": 27,\n",
    "    \"type_dim\": 32,\n",
    "    \"hidden_dim\": 32,\n",
    "    \"out_node_dim\": 32,\n",
    "    \"in_edge_dim\":32,\n",
    "    \"output_pad_dim\": 1,\n",
    "    \"output_res_dim\": 20,\n",
    "    \"pooling\": True,\n",
    "    \"up_mlp\": False,\n",
    "    \"residual\": True,\n",
    "    \"noise\": False,\n",
    "    \"transpose\": True,\n",
    "    \"attn\": True,\n",
    "    \"stride\": 2, \n",
    "    \"kernel\": 3, \n",
    "    \"padding\": 1\n",
    "}"
   ]
  },
  {
   "cell_type": "code",
   "execution_count": 19,
   "id": "9f12a24e",
   "metadata": {},
   "outputs": [
    {
     "data": {
      "text/plain": [
       "<All keys matched successfully>"
      ]
     },
     "execution_count": 19,
     "metadata": {},
     "output_type": "execute_result"
    }
   ],
   "source": [
    "model = ProAuto(**params).double().to(device)\n",
    "checkpoint = torch.load(<path of protein autoencoder checkpoint>)\n",
    "model.load_state_dict(checkpoint['model_state_dict'])"
   ]
  },
  {
   "cell_type": "code",
   "execution_count": 22,
   "id": "07bc6ba2-30f0-48ad-8cd5-45cd0144516a",
   "metadata": {},
   "outputs": [],
   "source": [
    "def encoder(model, batched_data):\n",
    "    \n",
    "    x, coords_ca, edge_index, batch = batched_data.x, batched_data.coords_ca, batched_data.edge_index, batched_data.batch\n",
    "\n",
    "    h = model.residue_type_embedding(x.squeeze(1).long()).to(device)\n",
    "\n",
    "    # encoder\n",
    "    emb_coords_ca, emb_h, batched_data, edge_index = model.encoder(coords_ca, h, edge_index, batch, batched_data)\n",
    "    \n",
    "    return emb_coords_ca, emb_h, model.mlp_mu_h(emb_h), model.mlp_sigma_h(emb_h)"
   ]
  },
  {
   "cell_type": "code",
   "execution_count": 23,
   "id": "1dab96a4",
   "metadata": {},
   "outputs": [
    {
     "name": "stderr",
     "output_type": "stream",
     "text": [
      "Iteration: 100%|████████████████████████████████████████████████████████████| 6631/6631 [24:39<00:00,  4.48it/s]\n"
     ]
    }
   ],
   "source": [
    "train_diffusion_data = []\n",
    "valid_diffusion_data = []\n",
    "test_diffusion_data = []\n",
    "for step, batch in enumerate(tqdm(train_loader, desc=\"Iteration\")):\n",
    "    batch.coords_ca = batch.coords_ca.double()\n",
    "    batch = batch.to(device)\n",
    "    with torch.no_grad():\n",
    "        emb_coords_ca, emb_h, mu_h, sigma_h = encoder(model, batch)\n",
    "        emb_h = mu_h + torch.exp(sigma_h / 2) * torch.randn_like(mu_h)\n",
    "        \n",
    "    \n",
    "    emb_coords_ca = emb_coords_ca.view(-1, 32, 3)\n",
    "    emb_h = emb_h.view(-1, 32, 32)\n",
    "    \n",
    "    for i in range(emb_h.shape[0]):\n",
    "        data = Data(coords=emb_coords_ca[i], h=emb_h[i])\n",
    "        train_diffusion_data.append(data)"
   ]
  },
  {
   "cell_type": "code",
   "execution_count": 24,
   "id": "5120f1e4",
   "metadata": {},
   "outputs": [
    {
     "name": "stderr",
     "output_type": "stream",
     "text": [
      "Iteration: 100%|████████████████████████████████████████████████████████████████| 28/28 [00:05<00:00,  4.77it/s]\n"
     ]
    }
   ],
   "source": [
    "for step, batch in enumerate(tqdm(valid_loader, desc=\"Iteration\")):\n",
    "    batch.coords_ca = batch.coords_ca.double()\n",
    "    batch = batch.to(device)\n",
    "    with torch.no_grad():\n",
    "        emb_coords_ca, emb_h, mu_h, sigma_h = encoder(model, batch)\n",
    "        emb_h = mu_h + torch.exp(sigma_h / 2) * torch.randn_like(mu_h)\n",
    "\n",
    "    emb_coords_ca = emb_coords_ca.view(-1, 32, 3)\n",
    "    emb_h = emb_h.view(-1, 32, 32)\n",
    "    \n",
    "    for i in range(emb_h.shape[0]):\n",
    "        data = Data(coords=emb_coords_ca[i], h=emb_h[i])\n",
    "        valid_diffusion_data.append(data)"
   ]
  },
  {
   "cell_type": "code",
   "execution_count": 25,
   "id": "4cb26903",
   "metadata": {},
   "outputs": [
    {
     "name": "stderr",
     "output_type": "stream",
     "text": [
      "Iteration: 100%|████████████████████████████████████████████████████████████████| 28/28 [00:05<00:00,  4.76it/s]\n"
     ]
    }
   ],
   "source": [
    "for step, batch in enumerate(tqdm(test_loader, desc=\"Iteration\")):\n",
    "    batch.coords_ca = batch.coords_ca.double()\n",
    "    batch = batch.to(device)\n",
    "    with torch.no_grad():\n",
    "        emb_coords_ca, emb_h, mu_h, sigma_h = encoder(model, batch)\n",
    "        emb_h = mu_h + torch.exp(sigma_h / 2) * torch.randn_like(mu_h)\n",
    "\n",
    "    emb_coords_ca = emb_coords_ca.view(-1, 32, 3)\n",
    "    emb_h = emb_h.view(-1, 32, 32)\n",
    "    \n",
    "    for i in range(emb_h.shape[0]):\n",
    "        data = Data(coords=emb_coords_ca[i], h=emb_h[i])\n",
    "        test_diffusion_data.append(data)"
   ]
  },
  {
   "cell_type": "code",
   "execution_count": 26,
   "id": "7561a0a7",
   "metadata": {
    "tags": []
   },
   "outputs": [],
   "source": [
    "dataname = <latent_data_name>\n",
    "torch.save(train_diffusion_data, f'./{dataname}_train.pt')\n",
    "torch.save(valid_diffusion_data, f'./{dataname}_val.pt')\n",
    "torch.save(test_diffusion_data, f'./{dataname}_test.pt')"
   ]
  },
  {
   "cell_type": "code",
   "execution_count": null,
   "id": "be766d6a",
   "metadata": {},
   "outputs": [],
   "source": []
  }
 ],
 "metadata": {
  "kernelspec": {
   "display_name": "protein",
   "language": "python",
   "name": "python3"
  },
  "language_info": {
   "codemirror_mode": {
    "name": "ipython",
    "version": 3
   },
   "file_extension": ".py",
   "mimetype": "text/x-python",
   "name": "python",
   "nbconvert_exporter": "python",
   "pygments_lexer": "ipython3",
   "version": "3.10.5"
  }
 },
 "nbformat": 4,
 "nbformat_minor": 5
}
